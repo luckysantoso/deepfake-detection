{
 "cells": [
  {
   "cell_type": "markdown",
   "metadata": {},
   "source": [
    "# Import Library"
   ]
  },
  {
   "cell_type": "code",
   "execution_count": null,
   "metadata": {
    "execution": {
     "iopub.execute_input": "2025-05-26T16:14:34.178555Z",
     "iopub.status.busy": "2025-05-26T16:14:34.177724Z",
     "iopub.status.idle": "2025-05-26T16:14:34.182914Z",
     "shell.execute_reply": "2025-05-26T16:14:34.181860Z",
     "shell.execute_reply.started": "2025-05-26T16:14:34.178528Z"
    },
    "trusted": true
   },
   "outputs": [],
   "source": [
    "import os\n",
    "import cv2\n",
    "import csv\n",
    "from tqdm.auto import tqdm\n",
    "import pandas as pd\n",
    "import matplotlib.pyplot as plt"
   ]
  },
  {
   "cell_type": "markdown",
   "metadata": {},
   "source": [
    "# Setup Dataset"
   ]
  },
  {
   "cell_type": "code",
   "execution_count": null,
   "metadata": {
    "execution": {
     "iopub.execute_input": "2025-05-26T16:12:38.439405Z",
     "iopub.status.busy": "2025-05-26T16:12:38.439048Z",
     "iopub.status.idle": "2025-05-26T16:12:38.446079Z",
     "shell.execute_reply": "2025-05-26T16:12:38.444765Z",
     "shell.execute_reply.started": "2025-05-26T16:12:38.439383Z"
    },
    "trusted": true
   },
   "outputs": [],
   "source": [
    "# Paths\n",
    "data_path = \"/kaggle/input/ff-c23/FaceForensics++_C23\"\n",
    "output_dir = \"frames_cropped_new\"\n",
    "os.makedirs(output_dir, exist_ok=True)\n",
    "\n",
    "# Debug settings\n",
    "DEBUG_MODE = True\n",
    "DEBUG_VIDEOS_PER_CATEGORY = 2  # number of videos per category to debug\n",
    "\n",
    "# NEW: maksimum crops per video\n",
    "MAX_CROPS_PER_VIDEO = 1\n",
    "\n",
    "# Category-to-label mapping\n",
    "categories = {\n",
    "    \"original\": 0,\n",
    "    \"DeepFakeDetection\": 1,\n",
    "    \"Deepfakes\": 1,\n",
    "    \"Face2Face\": 1,\n",
    "    \"FaceSwap\": 1,\n",
    "    \"FaceShifter\":1,\n",
    "    \"NeuralTextures\": 1\n",
    "}"
   ]
  },
  {
   "cell_type": "markdown",
   "metadata": {},
   "source": [
    "# Cropping Face"
   ]
  },
  {
   "cell_type": "code",
   "execution_count": null,
   "metadata": {
    "_cell_guid": "b1076dfc-b9ad-4769-8c92-a6c4dae69d19",
    "_uuid": "8f2839f25d086af736a60e9eeb907d3b93b6e0e5",
    "execution": {
     "iopub.execute_input": "2025-05-26T16:12:38.447601Z",
     "iopub.status.busy": "2025-05-26T16:12:38.447270Z",
     "iopub.status.idle": "2025-05-26T16:13:00.152336Z",
     "shell.execute_reply": "2025-05-26T16:13:00.151386Z",
     "shell.execute_reply.started": "2025-05-26T16:12:38.447571Z"
    },
    "trusted": true
   },
   "outputs": [],
   "source": [
    "# Initialize face detector\n",
    "face_cascade = cv2.CascadeClassifier(\n",
    "    cv2.data.haarcascades + 'haarcascade_frontalface_default.xml'\n",
    ")\n",
    "\n",
    "# Prepare CSV rows\n",
    "csv_rows = [[\"filepath\", \"label\"]]\n",
    "\n",
    "# Loop through each category and video\n",
    "for category, label in tqdm(categories.items(),desc=\"categories\"):\n",
    "    print(f\"\\nCategory: {category}\")\n",
    "    processed_count = 0\n",
    "    cat_path = os.path.join(data_path, category)\n",
    "\n",
    "    for root, _, files in os.walk(cat_path):\n",
    "        for file in files:\n",
    "            if not file.endswith('.mp4'):\n",
    "                continue\n",
    "            if DEBUG_MODE and processed_count >= DEBUG_VIDEOS_PER_CATEGORY:\n",
    "                break\n",
    "\n",
    "            video_path = os.path.join(root, file)\n",
    "            print(f\"Processing video: {video_path}\")\n",
    "\n",
    "            cap = cv2.VideoCapture(video_path)\n",
    "            fps = cap.get(cv2.CAP_PROP_FPS) or 30\n",
    "            interval = int(fps)  # 1 frame per second\n",
    "            frame_idx = 0\n",
    "            saved_idx = 0\n",
    "\n",
    "            while True:\n",
    "                ret, frame = cap.read()\n",
    "                if not ret or saved_idx >= MAX_CROPS_PER_VIDEO:\n",
    "                    # berhenti jika video habis atau sudah mencapai batas crop\n",
    "                    break\n",
    "\n",
    "                # Only process one frame per second\n",
    "                if frame_idx % interval == 0:\n",
    "                    gray = cv2.cvtColor(frame, cv2.COLOR_BGR2GRAY)\n",
    "                    faces = face_cascade.detectMultiScale(gray, 1.3, 5)\n",
    "                    if len(faces) > 0:\n",
    "                        x, y, w, h = faces[0]  # ambil wajah pertama\n",
    "                        face_crop = frame[y:y+h, x:x+w]\n",
    "                        save_fname = f\"{category}_{os.path.splitext(file)[0]}_{saved_idx:04d}.jpg\"\n",
    "                        save_path = os.path.join(output_dir, save_fname)\n",
    "                        cv2.imwrite(save_path, face_crop)\n",
    "                        csv_rows.append([save_path, label])\n",
    "                        saved_idx += 1\n",
    "\n",
    "                frame_idx += 1\n",
    "\n",
    "            cap.release()\n",
    "            processed_count += 1\n",
    "\n",
    "        if DEBUG_MODE and processed_count >= DEBUG_VIDEOS_PER_CATEGORY:\n",
    "            break\n",
    "\n",
    "# Write out the labels CSV\n",
    "with open(\"labels.csv\", \"w\", newline=\"\") as f:\n",
    "    writer = csv.writer(f)\n",
    "    writer.writerows(csv_rows)\n",
    "\n",
    "print(\"\\nDone! Cropped frames saved in\", output_dir)\n",
    "print(\"Labels list saved to labels.csv\")"
   ]
  },
  {
   "cell_type": "code",
   "execution_count": null,
   "metadata": {
    "execution": {
     "iopub.execute_input": "2025-05-26T16:14:36.875158Z",
     "iopub.status.busy": "2025-05-26T16:14:36.874795Z",
     "iopub.status.idle": "2025-05-26T16:14:38.112705Z",
     "shell.execute_reply": "2025-05-26T16:14:38.111177Z",
     "shell.execute_reply.started": "2025-05-26T16:14:36.875136Z"
    },
    "trusted": true
   },
   "outputs": [],
   "source": [
    "# Lokasi folder hasil crop\n",
    "output_dir = \"frames_cropped_new\"\n",
    "\n",
    "# Atur berapa banyak gambar yang mau ditampilkan\n",
    "NUM_IMAGES = 8\n",
    "COLS = 4\n",
    "\n",
    "# Ambil dan sort file JPG\n",
    "all_imgs = sorted([f for f in os.listdir(output_dir) if f.lower().endswith('.jpg')])\n",
    "sample = all_imgs[:NUM_IMAGES]\n",
    "\n",
    "# Hitung jumlah baris agar pas\n",
    "rows = (len(sample) + COLS - 1) // COLS\n",
    "\n",
    "# Setup figure\n",
    "plt.figure(figsize=(COLS * 3, rows * 3))\n",
    "\n",
    "# Loop dan tampilkan\n",
    "for idx, fname in enumerate(sample):\n",
    "    img_path = os.path.join(output_dir, fname)\n",
    "    img_bgr = cv2.imread(img_path)\n",
    "    img_rgb = cv2.cvtColor(img_bgr, cv2.COLOR_BGR2RGB)\n",
    "    \n",
    "    plt.subplot(rows, COLS, idx + 1)\n",
    "    plt.imshow(img_rgb)\n",
    "    plt.title(fname, fontsize=8)\n",
    "    plt.axis('off')\n",
    "\n",
    "plt.tight_layout()\n",
    "plt.show()"
   ]
  },
  {
   "cell_type": "code",
   "execution_count": null,
   "metadata": {
    "execution": {
     "iopub.execute_input": "2025-05-26T16:14:46.564168Z",
     "iopub.status.busy": "2025-05-26T16:14:46.563798Z",
     "iopub.status.idle": "2025-05-26T16:14:46.611636Z",
     "shell.execute_reply": "2025-05-26T16:14:46.610694Z",
     "shell.execute_reply.started": "2025-05-26T16:14:46.564142Z"
    },
    "trusted": true
   },
   "outputs": [],
   "source": [
    "df = pd.read_csv('labels.csv')\n",
    "print(f\"Label unique : {df['label'].unique()}\\n\")\n",
    "print(f\"Label Count: {df['label'].value_counts()}\\n\")\n",
    "df.info()"
   ]
  },
  {
   "cell_type": "code",
   "execution_count": null,
   "metadata": {
    "trusted": true
   },
   "outputs": [],
   "source": []
  }
 ],
 "metadata": {
  "kaggle": {
   "accelerator": "none",
   "dataSources": [
    {
     "datasetId": 6248577,
     "sourceId": 10125851,
     "sourceType": "datasetVersion"
    }
   ],
   "dockerImageVersionId": 31040,
   "isGpuEnabled": false,
   "isInternetEnabled": true,
   "language": "python",
   "sourceType": "notebook"
  },
  "kernelspec": {
   "display_name": "Python 3",
   "language": "python",
   "name": "python3"
  },
  "language_info": {
   "codemirror_mode": {
    "name": "ipython",
    "version": 3
   },
   "file_extension": ".py",
   "mimetype": "text/x-python",
   "name": "python",
   "nbconvert_exporter": "python",
   "pygments_lexer": "ipython3",
   "version": "3.11.11"
  }
 },
 "nbformat": 4,
 "nbformat_minor": 4
}
